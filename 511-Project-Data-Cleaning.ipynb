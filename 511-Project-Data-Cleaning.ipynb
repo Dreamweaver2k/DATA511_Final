{
 "cells": [
  {
   "cell_type": "code",
   "execution_count": 1,
   "id": "9cf744ea",
   "metadata": {},
   "outputs": [],
   "source": [
    "import pandas as pd"
   ]
  },
  {
   "cell_type": "code",
   "execution_count": null,
   "id": "8c25b2d2",
   "metadata": {},
   "outputs": [],
   "source": [
    "df_eng_events = pd.read_csv('/Users/zach/DATA 511 Jupyter/data/events_England.csv')\n",
    "df_eng_matches = pd.read_csv('/Users/zach/DATA 511 Jupyter/data/matches_England.csv')\n",
    "df_teams = pd.read_csv('/Users/zach/DATA 511 Jupyter/data/teams.csv')\n",
    "df_players = pd.read_csv('/Users/zach/DATA 511 Jupyter/data/player_games.csv')\n",
    "df_actions = pd.read_csv('/Users/zach/DATA 511 Jupyter/data/actions.csv')"
   ]
  },
  {
   "cell_type": "code",
   "execution_count": null,
   "id": "1ed0f6e6",
   "metadata": {},
   "outputs": [],
   "source": [
    "df_events_teams_matches = pd.merge(df_eng_events, df_eng_matches[['wyId', 'team1.teamId','team2.teamId','team1.score','team2.score']], left_on = 'matchId', right_on = 'wyId',how='left')\n",
    "df_events_teams_matches = df_events_teams_matches.query('eventId == 8 | eventId == 10')\n",
    "for idx, row in df_events_teams_matches.iterrows():\n",
    "    if df_events_teams_matches.loc[idx, 'teamId'] == df_events_teams_matches.loc[idx, 'team1.teamId']:\n",
    "        df_events_teams_matches.loc[idx, 'team'] = df_events_teams_matches.loc[idx, 'team1.teamId']\n",
    "        df_events_teams_matches.loc[idx, 'opponent'] = df_events_teams_matches.loc[idx, 'team2.teamId']\n",
    "        df_events_teams_matches.loc[idx, 'goals_f'] = df_events_teams_matches.loc[idx, 'team1.score']\n",
    "        df_events_teams_matches.loc[idx, 'goals_a'] = df_events_teams_matches.loc[idx, 'team2.score']\n",
    "    else:\n",
    "        df_events_teams_matches.loc[idx, 'team'] = df_events_teams_matches.loc[idx, 'team2.teamId']\n",
    "        df_events_teams_matches.loc[idx, 'opponent'] = df_events_teams_matches.loc[idx, 'team1.teamId']\n",
    "        df_events_teams_matches.loc[idx, 'goals_f'] = df_events_teams_matches.loc[idx, 'team2.score']\n",
    "        df_events_teams_matches.loc[idx, 'goals_a'] = df_events_teams_matches.loc[idx, 'team1.score']\n",
    "df_events_teams_matches = pd.merge(df_events_teams_matches, df_teams[['wyId','name']], left_on = 'team', right_on = 'wyId',how='left')\n",
    "df_events_teams_matches = pd.merge(df_events_teams_matches, df_teams[['wyId','name']], left_on = 'opponent', right_on = 'wyId',how='left')\n"
   ]
  },
  {
   "cell_type": "code",
   "execution_count": null,
   "id": "47b0405b",
   "metadata": {
    "scrolled": true
   },
   "outputs": [],
   "source": [
    "df_players = df_players.drop_duplicates(subset=['player_id'])\n",
    "df_passes = pd.merge(df_events_teams_matches, df_players[['player_id','player_name']], left_on='playerId', right_on='player_id',how='left')\n"
   ]
  },
  {
   "cell_type": "code",
   "execution_count": null,
   "id": "04da5d09",
   "metadata": {},
   "outputs": [],
   "source": [
    "df_passes = pd.merge(df_passes, df_actions[['original_event_id','start_x', 'start_y', 'end_x', 'end_y','result_name']], left_on='id', right_on='original_event_id',how='left')\n",
    "df_passes = df_passes.rename(columns={'name_x':'team_name','name_y':'opp_name'})\n",
    "df_passes = df_passes.drop(['eventId', 'tags', 'positions',\n",
    "       'eventName', 'teamId', 'subEventId',\n",
    "       'pos_orig_y', 'pos_orig_x', 'pos_dest_y', 'pos_dest_x',\n",
    "       'wyId_x', 'team1.teamId', 'team2.teamId', 'team1.score', 'team2.score',\n",
    "       'wyId_y', 'wyId','id','player_id','original_event_id','team','opponent'], axis=1)\n"
   ]
  },
  {
   "cell_type": "code",
   "execution_count": null,
   "id": "847d56fe",
   "metadata": {},
   "outputs": [],
   "source": [
    "df_passes.to_csv(r'/Users/zach/DATA 511 Jupyter/data/initial_clean_and_join.csv',index=False)"
   ]
  },
  {
   "cell_type": "code",
   "execution_count": 4,
   "id": "7e00ac7d",
   "metadata": {},
   "outputs": [
    {
     "data": {
      "text/plain": [
       "68.0"
      ]
     },
     "metadata": {},
     "output_type": "display_data"
    }
   ],
   "source": [
    "df_passes = pd.read_csv('/Users/zach/DATA 511 Jupyter/data/passes2.csv')\n",
    "display(max(df_passes['start_y']))"
   ]
  },
  {
   "cell_type": "code",
   "execution_count": null,
   "id": "ff5f02a1",
   "metadata": {},
   "outputs": [],
   "source": []
  }
 ],
 "metadata": {
  "kernelspec": {
   "display_name": "Python 3 (ipykernel)",
   "language": "python",
   "name": "python3"
  },
  "language_info": {
   "codemirror_mode": {
    "name": "ipython",
    "version": 3
   },
   "file_extension": ".py",
   "mimetype": "text/x-python",
   "name": "python",
   "nbconvert_exporter": "python",
   "pygments_lexer": "ipython3",
   "version": "3.9.12"
  }
 },
 "nbformat": 4,
 "nbformat_minor": 5
}
