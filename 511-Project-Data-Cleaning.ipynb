{
 "cells": [
  {
   "cell_type": "code",
   "execution_count": 1,
   "id": "9cf744ea",
   "metadata": {},
   "outputs": [],
   "source": [
    "import pandas as pd"
   ]
  },
  {
   "cell_type": "code",
   "execution_count": 62,
   "id": "8c25b2d2",
   "metadata": {},
   "outputs": [],
   "source": [
    "# events_England x matches_England on (match_id & team id) \n",
    "\n",
    "df_eng_events = pd.read_csv('events_England.csv')\n",
    "df_eng_matches = pd.read_csv('matches_England.csv')\n",
    "df_teams = pd.read_csv('teams.csv')\n",
    "df_players = pd.read_csv('players.csv')"
   ]
  },
  {
   "cell_type": "code",
   "execution_count": 22,
   "id": "60e35543",
   "metadata": {},
   "outputs": [
    {
     "data": {
      "text/plain": [
       "Index(['status', 'roundId', 'gameweek', 'teamsData', 'seasonId', 'dateutc',\n",
       "       'winner', 'venue', 'wyId', 'label', 'date', 'referees', 'duration',\n",
       "       'competitionId', 'team1.scoreET', 'team1.coachId', 'team1.side',\n",
       "       'team1.teamId', 'team1.score', 'team1.scoreP', 'team1.hasFormation',\n",
       "       'team1.formation', 'team1.scoreHT', 'team1.formation.bench',\n",
       "       'team1.formation.lineup', 'team1.formation.substitutions',\n",
       "       'team2.scoreET', 'team2.coachId', 'team2.side', 'team2.teamId',\n",
       "       'team2.score', 'team2.scoreP', 'team2.hasFormation', 'team2.formation',\n",
       "       'team2.scoreHT', 'team2.formation.bench', 'team2.formation.lineup',\n",
       "       'team2.formation.substitutions'],\n",
       "      dtype='object')"
      ]
     },
     "execution_count": 22,
     "metadata": {},
     "output_type": "execute_result"
    }
   ],
   "source": [
    "df_eng_matches.columns"
   ]
  },
  {
   "cell_type": "code",
   "execution_count": 23,
   "id": "4fb0cf4f",
   "metadata": {},
   "outputs": [
    {
     "data": {
      "text/plain": [
       "Index(['eventId', 'subEventName', 'tags', 'playerId', 'positions', 'matchId',\n",
       "       'eventName', 'teamId', 'matchPeriod', 'eventSec', 'subEventId', 'id',\n",
       "       'tagsList', 'pos_orig_y', 'pos_orig_x', 'pos_dest_y', 'pos_dest_x'],\n",
       "      dtype='object')"
      ]
     },
     "execution_count": 23,
     "metadata": {},
     "output_type": "execute_result"
    }
   ],
   "source": [
    "df_eng_events.columns"
   ]
  },
  {
   "cell_type": "code",
   "execution_count": 24,
   "id": "4bb4ee9e",
   "metadata": {},
   "outputs": [],
   "source": [
    "df_eng_events = df_eng_events.drop(['positions','subEventId','eventId','id','tags'], axis=1)"
   ]
  },
  {
   "cell_type": "code",
   "execution_count": 41,
   "id": "1b7d4b0a",
   "metadata": {},
   "outputs": [],
   "source": [
    "df_events_teams = pd.merge(df_eng_events, df_teams[['wyId','name']], left_on = 'teamId', right_on = 'wyId')"
   ]
  },
  {
   "cell_type": "code",
   "execution_count": 74,
   "id": "1ed0f6e6",
   "metadata": {},
   "outputs": [],
   "source": [
    "df_events_teams_matches = pd.merge(df_events_teams, df_eng_matches[['wyId', 'team1.teamId','team2.teamId','team1.score','team2.score']], left_on = 'matchId', right_on = 'wyId')"
   ]
  },
  {
   "cell_type": "code",
   "execution_count": 75,
   "id": "5e99662d",
   "metadata": {},
   "outputs": [],
   "source": [
    "df_events_teams_matches = pd.merge(df_events_teams_matches, df_teams[['wyId','name']], left_on = 'team2.teamId', right_on = 'wyId')"
   ]
  },
  {
   "cell_type": "code",
   "execution_count": 76,
   "id": "47b0405b",
   "metadata": {},
   "outputs": [
    {
     "name": "stderr",
     "output_type": "stream",
     "text": [
      "C:\\Users\\Harshit Rai\\AppData\\Local\\Temp\\ipykernel_34068\\59213745.py:1: FutureWarning: Passing 'suffixes' which cause duplicate columns {'wyId_x'} in the result is deprecated and will raise a MergeError in a future version.\n",
      "  df_ev_tm_mt_plyrs = pd.merge(df_events_teams_matches, df_players[['wyId','firstName','lastName']], left_on='playerId', right_on='wyId')\n"
     ]
    }
   ],
   "source": [
    "df_ev_tm_mt_plyrs = pd.merge(df_events_teams_matches, df_players[['wyId','firstName','lastName']], left_on='playerId', right_on='wyId')"
   ]
  },
  {
   "cell_type": "code",
   "execution_count": 77,
   "id": "6b1e7b83",
   "metadata": {},
   "outputs": [],
   "source": [
    "df_passes = df_ev_tm_mt_plyrs.query('eventId == 8 | eventId == 10')"
   ]
  },
  {
   "cell_type": "code",
   "execution_count": 85,
   "id": "04da5d09",
   "metadata": {},
   "outputs": [],
   "source": [
    "df_passes = df_passes.drop(['eventId','tags', 'positions', 'teamId', 'id', 'subEventId', 'wyId_x', 'wyId_y', 'wyId_x', 'wyId_y'], axis=1)"
   ]
  },
  {
   "cell_type": "code",
   "execution_count": 86,
   "id": "847d56fe",
   "metadata": {},
   "outputs": [],
   "source": [
    "df_passes.to_csv('initial_clean_and_join.csv')"
   ]
  },
  {
   "cell_type": "code",
   "execution_count": null,
   "id": "8c98f62e",
   "metadata": {},
   "outputs": [],
   "source": []
  }
 ],
 "metadata": {
  "kernelspec": {
   "display_name": "Python 3 (ipykernel)",
   "language": "python",
   "name": "python3"
  },
  "language_info": {
   "codemirror_mode": {
    "name": "ipython",
    "version": 3
   },
   "file_extension": ".py",
   "mimetype": "text/x-python",
   "name": "python",
   "nbconvert_exporter": "python",
   "pygments_lexer": "ipython3",
   "version": "3.9.12"
  }
 },
 "nbformat": 4,
 "nbformat_minor": 5
}
